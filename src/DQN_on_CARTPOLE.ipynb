{
  "cells": [
    {
      "cell_type": "markdown",
      "metadata": {
        "id": "view-in-github",
        "colab_type": "text"
      },
      "source": [
        "<a href=\"https://colab.research.google.com/github/caroline1103/DQN_Project/blob/main/src/DQN_on_CARTPOLE.ipynb\" target=\"_parent\"><img src=\"https://colab.research.google.com/assets/colab-badge.svg\" alt=\"Open In Colab\"/></a>"
      ]
    },
    {
      "cell_type": "markdown",
      "source": [
        "**#DQN ON CARTPOLE**"
      ],
      "metadata": {
        "id": "DxZtRhnx3OPG"
      }
    },
    {
      "cell_type": "markdown",
      "source": [
        "#1. Set up"
      ],
      "metadata": {
        "id": "4Jn3hsF13Sv-"
      }
    },
    {
      "cell_type": "markdown",
      "source": [
        "##Installations"
      ],
      "metadata": {
        "id": "DUHKd2bG3XQa"
      }
    },
    {
      "cell_type": "code",
      "execution_count": 2,
      "metadata": {
        "id": "C5f3TLJj0tKa",
        "outputId": "dd7d8a2b-b028-4144-e534-0cf6b9c5c1d0",
        "colab": {
          "base_uri": "https://localhost:8080/"
        }
      },
      "outputs": [
        {
          "output_type": "stream",
          "name": "stdout",
          "text": [
            "Looking in indexes: https://pypi.org/simple, https://us-python.pkg.dev/colab-wheels/public/simple/\n",
            "Requirement already satisfied: gym[classic_control] in /usr/local/lib/python3.8/dist-packages (0.25.2)\n",
            "Requirement already satisfied: importlib-metadata>=4.8.0 in /usr/local/lib/python3.8/dist-packages (from gym[classic_control]) (5.1.0)\n",
            "Requirement already satisfied: cloudpickle>=1.2.0 in /usr/local/lib/python3.8/dist-packages (from gym[classic_control]) (1.5.0)\n",
            "Requirement already satisfied: gym-notices>=0.0.4 in /usr/local/lib/python3.8/dist-packages (from gym[classic_control]) (0.0.8)\n",
            "Requirement already satisfied: numpy>=1.18.0 in /usr/local/lib/python3.8/dist-packages (from gym[classic_control]) (1.21.6)\n",
            "Requirement already satisfied: pygame==2.1.0 in /usr/local/lib/python3.8/dist-packages (from gym[classic_control]) (2.1.0)\n",
            "Requirement already satisfied: zipp>=0.5 in /usr/local/lib/python3.8/dist-packages (from importlib-metadata>=4.8.0->gym[classic_control]) (3.11.0)\n"
          ]
        }
      ],
      "source": [
        "pip install gym[classic_control]"
      ]
    },
    {
      "cell_type": "markdown",
      "metadata": {
        "id": "JYTVjbQj0tKS"
      },
      "source": [
        "\n",
        "##Packages\n",
        "\n"
      ]
    },
    {
      "cell_type": "code",
      "execution_count": 3,
      "metadata": {
        "id": "sKHaFBRK0tKe"
      },
      "outputs": [],
      "source": [
        "from collections import namedtuple, deque #to construct transitions and replay memory\n",
        "from itertools import count \n",
        "import math\n",
        "import random\n",
        "import numpy as np\n",
        "import matplotlib\n",
        "import matplotlib.pyplot as plt\n",
        "\n",
        "from IPython import display #this is create animation\n",
        "plt.ion()\n",
        "\n",
        "import gym #environment to play the games\n",
        "\n",
        "\n",
        "import torch\n",
        "import torch.nn as nn #constructing neural network\n",
        "import torch.optim as optim #optimizing\n",
        "import torch.nn.functional as F\n",
        "\n",
        "#For the videogame animation at the end\n",
        "import os\n",
        "import sys\n",
        "os.environ[\"SDL_VIDEODRIVER\"] = \"dummy\"\n",
        "import pygame\n",
        "pygame.init()\n",
        "import matplotlib.animation as animation\n",
        "\n",
        "\n"
      ]
    },
    {
      "cell_type": "markdown",
      "source": [
        "#2. Transitions and their storage in a replay memory\n"
      ],
      "metadata": {
        "id": "7tXGSeNZZ04L"
      }
    },
    {
      "cell_type": "markdown",
      "source": [
        "At the beggining, we want to let the computer explore freely the environment by making mistakes and seeing in what situations it gets rewarded. However, when it has had enough experiences, we also want it to start learning from what happened.\n",
        "\n",
        "For this purpose, we store those events as transitions between two states.\n",
        "\n",
        "In this example, we learn randomly from transitions by giving them all the same importance. However, the batches could be created differently.\n",
        "\n",
        "Here, we train **off-policy**, because at each update we use any transition in the replay memeort, regardless of how the agent was choosing to explore the environment when the data was obtained."
      ],
      "metadata": {
        "id": "cncjjU5DEIWL"
      }
    },
    {
      "cell_type": "code",
      "source": [
        "Transition = namedtuple('Transition', ('state', 'action', 'reward', 'next_state', 'done'))"
      ],
      "metadata": {
        "id": "fqLnS9COZP1n"
      },
      "execution_count": 4,
      "outputs": []
    },
    {
      "cell_type": "markdown",
      "source": [
        "We create a replay memory where we will store all the transitions up to a certain capacity (then we will overwrite over the oldest ones)."
      ],
      "metadata": {
        "id": "HYStN4iPEOdU"
      }
    },
    {
      "cell_type": "code",
      "source": [
        "def replay_memory(capacity = 20000):\n",
        "  return deque([],maxlen = capacity)"
      ],
      "metadata": {
        "id": "5UuC0SP3ZQcV"
      },
      "execution_count": 5,
      "outputs": []
    },
    {
      "cell_type": "code",
      "source": [
        "def add_to_memory(memory, transition):\n",
        "  memory.append(transition[:])"
      ],
      "metadata": {
        "id": "UKgtKYsBZQfL"
      },
      "execution_count": 6,
      "outputs": []
    },
    {
      "cell_type": "markdown",
      "source": [
        "We will want to get a random batch of memory to learn from later one and we'll use this function:"
      ],
      "metadata": {
        "id": "OKVYyC9r36X6"
      }
    },
    {
      "cell_type": "code",
      "source": [
        "def meomry_batch(memory, batch_size = 128):\n",
        "  return random.sample(memory, batch_size)"
      ],
      "metadata": {
        "id": "LvkwTlydZlWW"
      },
      "execution_count": 7,
      "outputs": []
    },
    {
      "cell_type": "markdown",
      "source": [
        "#Setting up the cartpole environment"
      ],
      "metadata": {
        "id": "m-vSY4NhaAQE"
      }
    },
    {
      "cell_type": "markdown",
      "source": [
        "First, we want to learn to play the cartpole game.\n",
        "\n",
        "**Goal :** The goal of the game is to balance a pole on a cart which is moving left and right. We lose when the pole falls. An episode ends when the pole is more than 15 degrees from vertical or when the cart moved more than 2.4 units from the center.\n",
        "\n",
        "**Rewards :** You score points by staying upright. The computer gains one point after each action where the pole stays upright.\n",
        "\n",
        "**Observations:** We observe a vector of 4 parameters: the position of the cart, the velocity of the cart, the angle of the pole, and the rotation rate of the pole.\n",
        "\n",
        "**Actions:** We can only take two actions: moving the cart right or moving it left.\n"
      ],
      "metadata": {
        "id": "dmE-7m42EVmV"
      }
    },
    {
      "cell_type": "code",
      "source": [
        "RANDOM_SEED = 2\n",
        "torch.manual_seed(RANDOM_SEED)\n",
        "\n",
        "env = gym.make('CartPole-v1', new_step_api=True)\n",
        "env.reset(seed=RANDOM_SEED)\n",
        "np.random.seed(RANDOM_SEED)\n"
      ],
      "metadata": {
        "id": "3O-wjhB2ZqVT"
      },
      "execution_count": 8,
      "outputs": []
    },
    {
      "cell_type": "code",
      "source": [
        "print(\"Action Space: {}\".format(env.action_space))\n",
        "\n",
        "print(\"State space: {}\".format(env.observation_space)) #[position of cart, velocity of cart, angle of pole, rotation rate of pole]"
      ],
      "metadata": {
        "id": "1twlG65dE4YA",
        "colab": {
          "base_uri": "https://localhost:8080/"
        },
        "outputId": "0155b2e6-c1d2-4cbb-8f2e-81e5d7fbd60a"
      },
      "execution_count": 9,
      "outputs": [
        {
          "output_type": "stream",
          "name": "stdout",
          "text": [
            "Action Space: Discrete(2)\n",
            "State space: Box([-4.8000002e+00 -3.4028235e+38 -4.1887903e-01 -3.4028235e+38], [4.8000002e+00 3.4028235e+38 4.1887903e-01 3.4028235e+38], (4,), float32)\n"
          ]
        }
      ]
    },
    {
      "cell_type": "markdown",
      "source": [
        "When we **take an action** in the environment, we **get back four informations**: \n",
        "* The new state of the environment after the action\n",
        "* The reward we got\n",
        "* If the game was terminated (we lost) or truncated (the cart went out of the frame)\n",
        "* Additional informations."
      ],
      "metadata": {
        "id": "qhtMIDPZ6MZy"
      }
    },
    {
      "cell_type": "code",
      "source": [
        "env.step(1) #next_state, reward, terminated, truncated , info"
      ],
      "metadata": {
        "colab": {
          "base_uri": "https://localhost:8080/"
        },
        "id": "He2FN3yzaYE4",
        "outputId": "b7e2ee1c-f898-49c5-af93-a4c3cb328124"
      },
      "execution_count": 10,
      "outputs": [
        {
          "output_type": "execute_result",
          "data": {
            "text/plain": [
              "(array([-0.02424181,  0.17450671,  0.03060641, -0.32341394], dtype=float32),\n",
              " 1.0,\n",
              " False,\n",
              " False,\n",
              " {})"
            ]
          },
          "metadata": {},
          "execution_count": 10
        }
      ]
    },
    {
      "cell_type": "markdown",
      "source": [
        "\n",
        "As seen earlier, we observe the environment of cartpole with **4 informations** and we can take **2 actions**:\n"
      ],
      "metadata": {
        "id": "YX3M0rlpPoo0"
      }
    },
    {
      "cell_type": "code",
      "source": [
        "state = env.reset()\n",
        "\n",
        "n_observations = len(state) #for cartpole it's 4\n",
        "n_actions = env.action_space.n #for carpole it's 2\n"
      ],
      "metadata": {
        "id": "6ob-ruX_DftZ"
      },
      "execution_count": 11,
      "outputs": []
    },
    {
      "cell_type": "markdown",
      "metadata": {
        "id": "C9Wdk5TP0tKm"
      },
      "source": [
        "#DQN, the action-value function Q\n",
        "\n",
        "In summary, the goal of our algorithm is to find the optimal action that the agent should take at each step. \n",
        "\n",
        "This is when the action value function $Q*(s,a)$ comes in. It returns the maximum expected return achievable from taking the action $a$ after observing a state $s$.\n",
        "\n",
        "We define the action value function as below with the **Bellman equation**:\n",
        "\n",
        "$Q*(s,a) = r + \\gamma max Q*(s',a')$ ,\n",
        "\n",
        "with $r$ the reward in we get from taking action $a$ in state $s$, $Q*(s',a')$ is the expected future return we can get from the next state and $\\gamma$ is the discount factor (as we would rather be rewarded sooner than later).\n",
        "\n",
        "But in reality, we don't know $Q*$ and we need to approximate it. To this purpose we use a neural network which we define as follows(same as implemented on [the pytorch website](https://pytorch.org/tutorials/intermediate/reinforcement_q_learning.html#training)):"
      ]
    },
    {
      "cell_type": "code",
      "execution_count": 12,
      "metadata": {
        "id": "jJL6rVx_0tKo"
      },
      "outputs": [],
      "source": [
        "class DQN(nn.Module):\n",
        "\n",
        "    def __init__(self, n_observations, n_actions):\n",
        "        super(DQN, self).__init__()\n",
        "        self.layer1 = nn.Linear(n_observations, 128)\n",
        "        self.layer2 = nn.Linear(128, 128)\n",
        "        self.layer3 = nn.Linear(128, n_actions)\n",
        "\n",
        "    def forward(self, x):\n",
        "        x = F.relu(self.layer1(x))\n",
        "        x = F.relu(self.layer2(x))\n",
        "        x = self.layer3(x)\n",
        "        return x"
      ]
    },
    {
      "cell_type": "markdown",
      "source": [
        "#Selecting an action\n",
        "\n",
        "An import step is to actually select an action for the computer to execute. From the DQN we defined above, this should be pretty easy.\n",
        "\n",
        "However, we need to consider that at the beggining of the training, the computer doesn't know anything: it has no memories.\n",
        "\n",
        "Furthermore, we want it to keep exploring other possibilites and avoid it taking always the same decisions which could return only a small reward (this cannot happen with carpole as the actions and reward are particularly limited but it will be the case in more complex games).\n",
        "\n",
        "To avoid this issue, we take an $ϵ$ between 0 and 1 such that the agent takes a random action $ϵ$% of the time, and takes an action which maximes $Q*(s,a)$  the rest of the time. \n",
        "\n",
        "We will see later on that we define \\epsilon such that it starts at one (the computer only explores new things at the beginning as it has no memories) and slowly and linearly decreases to a $\\epsilon_{minimum}$ which is greater than 0. As time passes, the computer uses more and more its memory to chose its actions, but still explores a little as to possibly further improve its score.\n"
      ],
      "metadata": {
        "id": "RjJq0eKvcpaq"
      }
    },
    {
      "cell_type": "code",
      "source": [
        "def select_action(state, eps_threshold):\n",
        "    global steps_done\n",
        "    sample = random.random()\n",
        "    steps_done += 1\n",
        "    if sample > eps_threshold: #we choose an action from what we learned\n",
        "        with torch.no_grad():\n",
        "            return policy_net(state).max(1)[1].view(1, 1)\n",
        "            #this returns the index (action) which allows to get maximum rewards\n",
        "    else:\n",
        "        return torch.tensor([[env.action_space.sample()]], dtype=torch.long) #we choose a random action\n",
        "\n"
      ],
      "metadata": {
        "id": "9KoIHig9cofu"
      },
      "execution_count": 13,
      "outputs": []
    },
    {
      "cell_type": "markdown",
      "source": [
        "#Generating a plot of progress\n",
        "\n",
        "I kept the function from the pytorch tutorial as it allows for a quick overview of the progress of the computer.\n",
        "\n",
        "The plot duration is the number of actions the computer was able to take before losing. \n",
        "In cartpole, there is basically no delays so it's also the number of actions the computer was able to take without losing."
      ],
      "metadata": {
        "id": "SWxCc7bT9_2F"
      }
    },
    {
      "cell_type": "code",
      "source": [
        "def plot_durations(show_result=False):\n",
        "    plt.figure(1)\n",
        "    durations_t = torch.tensor(episode_durations, dtype=torch.float)\n",
        "\n",
        "    #at the end\n",
        "    if show_result: \n",
        "        plt.title('Result')\n",
        "\n",
        "    #during\n",
        "    else:\n",
        "        plt.clf()\n",
        "        plt.title('Training...')\n",
        "        \n",
        "    plt.xlabel('Episode')\n",
        "    plt.ylabel('Duration')\n",
        "    plt.plot(durations_t.numpy())\n",
        "\n",
        "    # After we went trough 100 episodes, we start ploting the average duration\n",
        "    if len(durations_t) >= 100:\n",
        "        means = durations_t.unfold(0, 100, 1).mean(1).view(-1)\n",
        "        means = torch.cat((torch.zeros(99), means))\n",
        "        plt.plot(means.numpy())\n",
        "\n",
        "    plt.pause(0.001)  # pause a bit so that plots are updated\n",
        "    \n",
        "    if not show_result:\n",
        "            display.display(plt.gcf())\n",
        "            display.clear_output(wait=True)"
      ],
      "metadata": {
        "id": "79c8FBccgKjW"
      },
      "execution_count": 14,
      "outputs": []
    },
    {
      "cell_type": "markdown",
      "source": [
        "#Defining our DQN networks\n",
        "\n",
        "One thing we didn't mention yet is that we are going to need two networks. Reinforcement learning tends to be quite unstable and can diverge in some cases. Some reasons might be that one action can have a huge impact on the learning curve or that there exists correlations between past and present states.\n",
        "\n",
        "We can call them the **policy network** and the **target network**.\n",
        "\n",
        "When we want to optimize our model, we need to perform a gradient descent. In this situation, we use the policy network to estimate $Q_{predicted}$ for each actions. We want to compare those predicted values to the ones we want, let's call them $Q_{targeted}$ with a loss function (the Huber loss function)\n",
        "\n",
        "Basically, we are going to update the policy network at every step during the gradient descent, and we will do a soft update at a rate to be determine on the target network with the policy network weights.\n",
        "\n",
        "(Another thing we could do is to update the weights only each $x$ steps.)\n"
      ],
      "metadata": {
        "id": "ZcFJUAACEjaB"
      }
    },
    {
      "cell_type": "code",
      "source": [
        "policy_net = DQN(n_observations, n_actions)\n",
        "target_net = DQN(n_observations, n_actions)\n",
        "target_net.load_state_dict(policy_net.state_dict())"
      ],
      "metadata": {
        "colab": {
          "base_uri": "https://localhost:8080/"
        },
        "id": "3MwTUF5nEfVs",
        "outputId": "d441e9ad-82fb-434b-b366-6c6cdc0c0977"
      },
      "execution_count": 15,
      "outputs": [
        {
          "output_type": "execute_result",
          "data": {
            "text/plain": [
              "<All keys matched successfully>"
            ]
          },
          "metadata": {},
          "execution_count": 15
        }
      ]
    },
    {
      "cell_type": "markdown",
      "source": [
        "#A few parameters to define"
      ],
      "metadata": {
        "id": "HdW_UrUQDp8C"
      }
    },
    {
      "cell_type": "markdown",
      "source": [
        "We need to define **a few parameters** before we start training our algorithm:\n",
        "\n",
        "* As mentionned in the DQN function, $\\gamma$ is the **discount factor** so that futur reward are less meaningful than direct rewards.\n",
        "\n",
        "* As mentionned in the select_action function, we need **epsilon** to slowly decrease at **rate $\\epsilon_{decay}$** from $\\epsilon_{maximum}$ to $\\epsilon_{minimum}$. The higher $\\epsilon_{decay}$ is the lower the decay will be when we define $\\epsilon$ as we will see later on.\n",
        "\n",
        "* We also need to define at which **rate $τ$ we upadte the weights of the target network**. \n",
        "\n",
        "* The **Adam optimizer** and its **learning rate** LR. This optimizer is prefered in the litterature to the classical stochastic gradient descent as it's supposed to be more efficient and particularly adapted to these types of problems."
      ],
      "metadata": {
        "id": "Y4daxLaIDdBG"
      }
    },
    {
      "cell_type": "code",
      "execution_count": 16,
      "metadata": {
        "id": "EfOUINlR0tKs"
      },
      "outputs": [],
      "source": [
        "\n",
        "GAMMA = 0.99 # Discount factor\n",
        "\n",
        "E_max = 0.9 # Starting epsilon\n",
        "E_min = 0.05 # Ending epsilon\n",
        "E_decay = 1000 # Rate of decrease\n",
        "\n",
        "TAU = 0.005 # Rate at which we want to update the weights from the policy to the target nn\n",
        "\n",
        "LR = 1e-4 # Learning rate of the AdamW optimizer\n",
        "optimizer = optim.AdamW(policy_net.parameters(), lr=LR, amsgrad=True)\n"
      ]
    },
    {
      "cell_type": "markdown",
      "source": [
        "#Optimizing the model\n",
        "\n",
        "Once we have enough memory to get a random sample out of them, we start the optimization by creating a memory batch of transitions.\n",
        "\n",
        "For all state and action, we compute their Q-function values through the policy network and then we compute the expected future rewards. We then compare the expected future rewards with the actual rewards we got from taking an action and we compute the Huber loss.\n",
        "\n",
        "If the state is terminal, we set the reward to be 0 by default.\n",
        "\n",
        "We then use the Huber loss in our backward propagation as to update our weights.\n"
      ],
      "metadata": {
        "id": "5vgUUZwBKGIq"
      }
    },
    {
      "cell_type": "code",
      "execution_count": 21,
      "metadata": {
        "id": "QrZhA7Tw0tKw"
      },
      "outputs": [],
      "source": [
        "def optimize_model(BATCH_SIZE = 128):\n",
        "    if len(memory) < BATCH_SIZE:\n",
        "        return\n",
        "\n",
        "    transitions = meomry_batch(memory, BATCH_SIZE)\n",
        "\n",
        "    batch = Transition(*zip(*transitions))\n",
        "\n",
        "    #Non final states are states which do not lead to the game stoping\n",
        "\n",
        "    #We get all those transitions\n",
        "    non_final_mask = torch.tensor(tuple(map(lambda s: s is not None,batch.next_state)), dtype=torch.bool)\n",
        "    #And all of those states\n",
        "    non_final_next_states = torch.cat([s for s in batch.next_state if s is not None])\n",
        "\n",
        "    state_batch = torch.cat(batch.state)\n",
        "    action_batch = torch.cat(batch.action)\n",
        "    reward_batch = torch.cat(batch.reward)\n",
        "\n",
        "    # Compute Q(s_t, a) - the model computes Q(s_t), then we select the\n",
        "    # columns of actions taken. These are the actions which would've been taken\n",
        "    # for each batch state according to policy_net\n",
        "    state_action_values = policy_net(state_batch).gather(1, action_batch)\n",
        "\n",
        "    # Compute V(s_{t+1}) for all next states.\n",
        "    # Expected values of actions for non_final_next_states are computed based\n",
        "    # on the \"older\" target_net; selecting their best reward with max(1)[0].\n",
        "    # This is merged based on the mask, such that we'll have either the expected\n",
        "    # state value or 0 in case the state was final.\n",
        "    next_state_values = torch.zeros(BATCH_SIZE)\n",
        "    \n",
        "    with torch.no_grad():\n",
        "        #For the non final states, we find the actions we should take through our target nn\n",
        "        next_state_values[non_final_mask] = target_net(non_final_next_states).max(1)[0]\n",
        "\n",
        "    # We apply the Bellman equation to get the expected rewards at each states\n",
        "    expected_state_action_values = (next_state_values * GAMMA) + reward_batch\n",
        "\n",
        "    # Compute Huber loss between what we expected the reward to be for an action and what the reward actually was\n",
        "    criterion = nn.SmoothL1Loss()\n",
        "    loss = criterion(state_action_values, expected_state_action_values.unsqueeze(1))\n",
        "\n",
        "    # Optimize the model with backward propagation\n",
        "    optimizer.zero_grad()\n",
        "    loss.backward()\n",
        "\n",
        "    # In-place gradient clipping\n",
        "    torch.nn.utils.clip_grad_value_(policy_net.parameters(), 100)\n",
        "    optimizer.step()"
      ]
    },
    {
      "cell_type": "markdown",
      "metadata": {
        "id": "_D-_SsVP0tKy"
      },
      "source": [
        "Below, you can find the main training loop. At the beginning we reset\n",
        "the environment and obtain the initial ``state`` Tensor. Then, we sample\n",
        "an action, execute it, observe the next state and the reward (always\n",
        "1), and optimize our model once. When the episode ends (our model\n",
        "fails), we restart the loop.\n",
        "\n",
        "Below, `num_episodes` is set to 600 if a GPU is available, otherwise 50 \n",
        "episodes are scheduled so training does not take too long. However, 50 \n",
        "episodes is insufficient for to observe good performance on cartpole.\n",
        "You should see the model constantly achieve 500 steps within 600 training \n",
        "episodes. Training RL agents can be a noisy process, so restarting training\n",
        "can produce better results if convergence is not observed.\n",
        "\n",
        "\n"
      ]
    },
    {
      "cell_type": "markdown",
      "source": [
        "#Training"
      ],
      "metadata": {
        "id": "aDyIbIN-PWo0"
      }
    },
    {
      "cell_type": "markdown",
      "source": [
        "##Setting up a few variables before the main training loop"
      ],
      "metadata": {
        "id": "rWgOJP6sPRZk"
      }
    },
    {
      "cell_type": "code",
      "source": [
        "memory = replay_memory(10000) #creating the replay memory of size 10000\n",
        "\n",
        "steps_done = 0 #setting steps at 0 at beginning\n",
        "\n",
        "episode_durations = [] #Where we store the episodes durations for the plots\n",
        "\n",
        "num_episodes = 600 #number of games we want to play"
      ],
      "metadata": {
        "id": "xHzdh-oqIHfR"
      },
      "execution_count": 23,
      "outputs": []
    },
    {
      "cell_type": "markdown",
      "source": [
        "##The main training loop"
      ],
      "metadata": {
        "id": "BBcjmT0cQF98"
      }
    },
    {
      "cell_type": "code",
      "execution_count": 24,
      "metadata": {
        "id": "5V1-YhBI0tKz",
        "outputId": "0349d209-bbd1-404e-adf2-97ef33e25d92",
        "colab": {
          "base_uri": "https://localhost:8080/",
          "height": 312
        }
      },
      "outputs": [
        {
          "output_type": "stream",
          "name": "stdout",
          "text": [
            "Complete\n"
          ]
        },
        {
          "output_type": "display_data",
          "data": {
            "text/plain": [
              "<Figure size 432x288 with 1 Axes>"
            ],
            "image/png": "[encoded data removed]"
          },
          "metadata": {
            "needs_background": "light"
          }
        }
      ],
      "source": [
        "#For the number of games we planned to train \n",
        "for i_episode in range(num_episodes):\n",
        "\n",
        "    # We initialize the state of the environment\n",
        "    state = env.reset()\n",
        "    state = torch.tensor(state, dtype=torch.float32).unsqueeze(0)\n",
        "\n",
        "    #In each game\n",
        "    for t in count():\n",
        "\n",
        "        #We update epsilon as we defined previously\n",
        "        eps_threshold = E_min + (E_max - E_min) * math.exp(-1. * steps_done / E_decay)\n",
        "\n",
        "        #We select an action from the state and the current epsilon\n",
        "        #It's either a random action or one from our DQN\n",
        "        action = select_action(state, eps_threshold)\n",
        "\n",
        "        #We do the action we chose\n",
        "        observation, reward, terminated, truncated, info = env.step(action.item())\n",
        "\n",
        "        #We get a reward\n",
        "        reward = torch.tensor([reward])\n",
        "\n",
        "        #We see if we lost\n",
        "        done = terminated or truncated\n",
        "\n",
        "        #If we lost, there is no next state but we still add it to the memory\n",
        "        if terminated:\n",
        "            next_state = None\n",
        "\n",
        "        #If we didin't lose we get the new state we are in\n",
        "        else:\n",
        "            next_state = torch.tensor(observation, dtype=torch.float32).unsqueeze(0)\n",
        "\n",
        "        #Either way, we store the transition in our memory\n",
        "        add_to_memory(memory, (state, action, reward, next_state, done))\n",
        "\n",
        "        #And our new state is now our present state\n",
        "        state = next_state\n",
        "\n",
        "        #We optimize the weights of our model on the policy network\n",
        "        optimize_model()\n",
        "\n",
        "        #And we do a soft update on the ones of the target network\n",
        "        #With the ones from our policy network\n",
        "        target_net_state_dict = target_net.state_dict()\n",
        "        policy_net_state_dict = policy_net.state_dict()\n",
        "\n",
        "        for key in policy_net_state_dict:\n",
        "            target_net_state_dict[key] = policy_net_state_dict[key]*TAU + target_net_state_dict[key]*(1-TAU)\n",
        "\n",
        "        target_net.load_state_dict(target_net_state_dict)\n",
        "\n",
        "        #If we lost \n",
        "        if done:\n",
        "            #We plot the duration of the game\n",
        "            episode_durations.append(t + 1)\n",
        "            plot_durations()\n",
        "            break\n",
        "\n",
        "#After we completed all the training games, we show the complete durations plot\n",
        "print('Complete')\n",
        "plot_durations(show_result=True)\n",
        "plt.ioff()\n",
        "plt.show()"
      ]
    },
    {
      "cell_type": "markdown",
      "source": [
        "#Testitng and displaying the game played"
      ],
      "metadata": {
        "id": "jUwVceDpgjhF"
      }
    },
    {
      "cell_type": "markdown",
      "source": [
        "## Before training\n",
        "\n",
        "For illustration purpose, it's nice to visualize our game.\n",
        "\n",
        "Here, we plot how the computer plays before ot was trained, meaning it's taking random actions.\n",
        "\n",
        "We just create an array which stores RGB images of the game until it's over. The computer takes an action and updates it's current state until the game is over.\n",
        "\n",
        "Then we can animate all those images but putting them one after another."
      ],
      "metadata": {
        "id": "D6pOCwt7go27"
      }
    },
    {
      "cell_type": "code",
      "source": [
        "fig = plt.figure()\n",
        "observation = env.reset()\n",
        "\n",
        "ims =[]\n",
        "done = False\n",
        "while not done:   \n",
        "    im = plt.imshow(env.render(mode = 'rgb_array'), animated=True)\n",
        "    ims.append([im])\n",
        "\n",
        "    action = env.action_space.sample()\n",
        "    new_observation, reward, terminated, truncated, info = env.step(action)\n",
        "    done = terminated or truncated\n",
        "    observation = new_observation\n",
        "ims.append([plt.imshow(env.render(mode = 'rgb_array'), animated=True)])\n",
        "\n",
        "ani = animation.ArtistAnimation(fig, ims, interval=50, blit=True,\n",
        "                                repeat_delay=100)\n",
        "\n",
        "ani.save('Cartpole_before_training.mp4')\n",
        "\n",
        "plt.show()"
      ],
      "metadata": {
        "colab": {
          "base_uri": "https://localhost:8080/",
          "height": 340
        },
        "id": "LfkpxbbtgTpo",
        "outputId": "cbe37693-5f3d-4ae9-f94c-3cc5ca730c7b"
      },
      "execution_count": null,
      "outputs": [
        {
          "output_type": "stream",
          "name": "stderr",
          "text": [
            "/usr/local/lib/python3.8/dist-packages/gym/core.py:43: DeprecationWarning: \u001b[33mWARN: The argument mode in render method is deprecated; use render_mode during environment initialization instead.\n",
            "See here for more information: https://www.gymlibrary.ml/content/api/\u001b[0m\n",
            "  deprecation(\n"
          ]
        },
        {
          "output_type": "display_data",
          "data": {
            "text/plain": [
              "<Figure size 432x288 with 1 Axes>"
            ],
            "image/png": "[encoded data removed]"
          },
          "metadata": {
            "needs_background": "light"
          }
        }
      ]
    },
    {
      "cell_type": "markdown",
      "source": [
        "##After Training\n",
        "\n",
        "We do the same thing except we don't take random actions we take an action from the policy network."
      ],
      "metadata": {
        "id": "p4Dm7HiJhJIB"
      }
    },
    {
      "cell_type": "code",
      "source": [
        "fig = plt.figure()\n",
        "state = env.reset()\n",
        "state = torch.tensor(state, dtype=torch.float32).unsqueeze(0)\n",
        "\n",
        "ims =[]\n",
        "done = False\n",
        "while not done:   \n",
        "    im = plt.imshow(env.render(mode = 'rgb_array'), animated=True)\n",
        "    ims.append([im])\n",
        "\n",
        "    #By setting epsilon to be 0 we are sure to never take a random action\n",
        "    action = select_action(state,0)\n",
        "    new_state, reward, terminated, truncated, info = env.step(action.item())\n",
        "    state = new_state\n",
        "    state = torch.tensor(state, dtype=torch.float32).unsqueeze(0)\n",
        "    done = terminated or truncated\n",
        "ims.append([plt.imshow(env.render(mode = 'rgb_array'), animated=True)])\n",
        "\n",
        "ani = animation.ArtistAnimation(fig, ims, interval=50, blit=True,\n",
        "                                repeat_delay=100)\n",
        "\n",
        "ani.save('Cartpole_after_training.mp4')\n",
        "\n",
        "plt.show()"
      ],
      "metadata": {
        "colab": {
          "base_uri": "https://localhost:8080/",
          "height": 269
        },
        "id": "33lsW59Hg1Sj",
        "outputId": "05999c83-d798-48a5-b86c-6e77298159d4"
      },
      "execution_count": null,
      "outputs": [
        {
          "output_type": "display_data",
          "data": {
            "text/plain": [
              "<Figure size 432x288 with 1 Axes>"
            ],
            "image/png": "[encoded data removed]"
          },
          "metadata": {
            "needs_background": "light"
          }
        }
      ]
    }
  ],
  "metadata": {
    "kernelspec": {
      "display_name": "Python 3",
      "language": "python",
      "name": "python3"
    },
    "language_info": {
      "codemirror_mode": {
        "name": "ipython",
        "version": 3
      },
      "file_extension": ".py",
      "mimetype": "text/x-python",
      "name": "python",
      "nbconvert_exporter": "python",
      "pygments_lexer": "ipython3",
      "version": "3.10.4"
    },
    "colab": {
      "provenance": [],
      "toc_visible": true,
      "include_colab_link": true
    }
  },
  "nbformat": 4,
  "nbformat_minor": 0
}